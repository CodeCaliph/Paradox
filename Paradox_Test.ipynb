{
  "nbformat": 4,
  "nbformat_minor": 0,
  "metadata": {
    "colab": {
      "provenance": []
    },
    "kernelspec": {
      "name": "python3",
      "display_name": "Python 3"
    },
    "language_info": {
      "name": "python"
    }
  },
  "cells": [
    {
      "cell_type": "code",
      "execution_count": 1,
      "metadata": {
        "id": "Y90-zAOx4dZx"
      },
      "outputs": [],
      "source": [
        "import pickle\n",
        "import pandas as pd\n",
        "import re\n",
        "from nltk.stem import PorterStemmer"
      ]
    },
    {
      "cell_type": "code",
      "source": [
        "with open(\"Trained_Model.pkl\", \"rb\") as f:\n",
        "    model = pickle.load(f)\n",
        "with open(\"tfidf_transformer.pkl\", \"rb\") as f:\n",
        "    tfidf = pickle.load(f)\n",
        "with open(\"label_encoder.pkl\", \"rb\") as f:\n",
        "    label_encoder = pickle.load(f)"
      ],
      "metadata": {
        "id": "DJMqNgUaicx2"
      },
      "execution_count": 2,
      "outputs": []
    },
    {
      "cell_type": "code",
      "source": [
        "ps = PorterStemmer()\n",
        "\n",
        "def clean_and_stem_text(text):\n",
        "    text = text.lower()\n",
        "    text = re.sub(r'[^a-z\\s]', '', text)  # Remove special characters\n",
        "    text = re.sub(r'\\s+', ' ', text).strip()  # Remove extra whitespace\n",
        "    text = ' '.join(ps.stem(word) for word in text.split())  # Stemming\n",
        "    return text"
      ],
      "metadata": {
        "id": "2HmZE6Yq-jEZ"
      },
      "execution_count": 3,
      "outputs": []
    },
    {
      "cell_type": "code",
      "source": [
        "# Function to predict the category of a comment\n",
        "def predict_comment_category(comment):\n",
        "    cleaned_comment = clean_and_stem_text(comment)\n",
        "\n",
        "    X_test = tfidf.transform([cleaned_comment])\n",
        "    y_pred = model.predict(X_test)\n",
        "\n",
        "    predicted_category = label_encoder.inverse_transform(y_pred)\n",
        "    return predicted_category[0]"
      ],
      "metadata": {
        "id": "3-v7kFL--jBF"
      },
      "execution_count": 4,
      "outputs": []
    },
    {
      "cell_type": "code",
      "source": [
        "# Get user input and predict the category\n",
        "if __name__ == \"__main__\":\n",
        "    user_comment = input(\"Enter a comment: \")\n",
        "    category = predict_comment_category(user_comment)\n",
        "    print(\"Predicted Category:\", category)"
      ],
      "metadata": {
        "colab": {
          "base_uri": "https://localhost:8080/"
        },
        "id": "-tKcTnbe-i_A",
        "outputId": "2b8edddf-b6ee-4cb7-fad6-8e2044ef3774"
      },
      "execution_count": 5,
      "outputs": [
        {
          "output_type": "stream",
          "name": "stdout",
          "text": [
            "Enter a comment: what is the answer to question 1?\n",
            "Predicted Category: doubt\n"
          ]
        }
      ]
    }
  ]
}